{
 "cells": [
  {
   "cell_type": "code",
   "execution_count": 35,
   "id": "f86e5e2d-2617-4b78-8585-0e4460527ed2",
   "metadata": {},
   "outputs": [
    {
     "name": "stdout",
     "output_type": "stream",
     "text": [
      "Saved: C:/Users/MG/Projects/Images/cuts\\slice_0.png\n",
      "Saved: C:/Users/MG/Projects/Images/cuts\\slice_1.png\n",
      "Saved: C:/Users/MG/Projects/Images/cuts\\slice_2.png\n",
      "Saved: C:/Users/MG/Projects/Images/cuts\\slice_3.png\n",
      "Saved: C:/Users/MG/Projects/Images/cuts\\slice_4.png\n",
      "Saved: C:/Users/MG/Projects/Images/cuts\\slice_5.png\n",
      "Saved: C:/Users/MG/Projects/Images/cuts\\slice_6.png\n",
      "Saved: C:/Users/MG/Projects/Images/cuts\\slice_7.png\n",
      "Saved: C:/Users/MG/Projects/Images/cuts\\slice_8.png\n",
      "Saved: C:/Users/MG/Projects/Images/cuts\\slice_9.png\n",
      "Saved: C:/Users/MG/Projects/Images/cuts\\slice_10.png\n",
      "Saved: C:/Users/MG/Projects/Images/cuts\\slice_11.png\n"
     ]
    }
   ],
   "source": [
    "'''\n",
    "Codes for slicing an image.\n",
    "지정 장소(C:/Users/MG/Projects/Images)에 있는 임의의 이미지 origin.png을 12등분 해 'C:/Users/MG/Projects/Images/cuts'에 저장합니다.\n",
    "'''\n",
    "\n",
    "from PIL import Image\n",
    "import os\n",
    "\n",
    "def slice_image(image_path, output_folder):\n",
    "    # Open the original image\n",
    "    with Image.open(image_path) as img:\n",
    "        img_width, img_height = img.size\n",
    "\n",
    "        # Calculate slice dimensions\n",
    "        slice_width = img_width // 6\n",
    "        slice_height = img_height // 2\n",
    "\n",
    "        # Number of slices\n",
    "        num_slices_x = img_width // slice_width\n",
    "        num_slices_y = img_height // slice_height\n",
    "\n",
    "        # Create output folder if it doesn't exist\n",
    "        if not os.path.exists(output_folder):\n",
    "            os.makedirs(output_folder)\n",
    "\n",
    "        slice_index = 0\n",
    "        for y in range(num_slices_y):\n",
    "            for x in range(num_slices_x):\n",
    "                left = x * slice_width\n",
    "                upper = y * slice_height\n",
    "                right = left + slice_width\n",
    "                lower = upper + slice_height\n",
    "\n",
    "                # Crop the image to the slice dimensions\n",
    "                img_slice = img.crop((left, upper, right, lower))\n",
    "\n",
    "                # Save the cropped slice\n",
    "                slice_filename = os.path.join(output_folder, f'slice_{slice_index}.png')\n",
    "                img_slice.save(slice_filename)\n",
    "                print(f'Saved: {slice_filename}')\n",
    "                slice_index += 1\n",
    "\n",
    "if __name__ == \"__main__\":\n",
    "    # Input parameters\n",
    "    input_image_path = 'C:/Users/MG/Projects/Images/origin.png'  # Replace with the path to your image\n",
    "    output_directory = 'C:/Users/MG/Projects/Images/cuts'\n",
    "\n",
    "    slice_image(input_image_path, output_directory)\n"
   ]
  },
  {
   "cell_type": "code",
   "execution_count": 37,
   "id": "07a9ec26-e492-42a8-9295-f2eb7c951288",
   "metadata": {},
   "outputs": [
    {
     "name": "stdout",
     "output_type": "stream",
     "text": [
      "slice_0.png: 1.0000\n",
      "slice_3.png: 0.7993\n",
      "slice_2.png: 0.7884\n",
      "slice_5.png: 0.7745\n",
      "slice_4.png: 0.7708\n",
      "slice_1.png: 0.7575\n",
      "slice_9.png: 0.5825\n",
      "slice_7.png: 0.5283\n",
      "slice_8.png: 0.5147\n",
      "slice_10.png: 0.4907\n",
      "slice_6.png: 0.4872\n",
      "slice_11.png: 0.3924\n"
     ]
    }
   ],
   "source": [
    "'''\n",
    "Codes to compare images.\n",
    "코사인 유사도를 이용해 slice_0과 slice_0부터 slice_11까지 비교합니다.\n",
    "'''\n",
    "\n",
    "import os\n",
    "import numpy as np\n",
    "from PIL import Image\n",
    "from sklearn.metrics.pairwise import cosine_similarity\n",
    "\n",
    "def extract_features(image_path, size=(128, 128)):\n",
    "    \"\"\"Extracts feature vector from an image using PIL.\"\"\"\n",
    "    img = Image.open(image_path).convert(\"L\")  # Convert to grayscale\n",
    "    img = img.resize(size)  # Resize to fixed dimensions\n",
    "    img = np.array(img).flatten()  # Flatten to 1D vector\n",
    "    img = img / np.linalg.norm(img)  # Normalize\n",
    "    return img\n",
    "\n",
    "def compare_images(main_image_path, folder_path):\n",
    "    \"\"\"Compares main image to images in a folder using cosine similarity.\"\"\"\n",
    "    main_features = extract_features(main_image_path)\n",
    "    similarities = []\n",
    "\n",
    "    for file in os.listdir(folder_path):\n",
    "        file_path = os.path.join(folder_path, file)\n",
    "        if os.path.isfile(file_path) and file.lower().endswith(('png', 'jpg', 'jpeg')):\n",
    "            sliced_features = extract_features(file_path)\n",
    "            similarity = cosine_similarity([main_features], [sliced_features])[0][0]\n",
    "            similarities.append((file, similarity))\n",
    "    \n",
    "    # Sort images by similarity (descending)\n",
    "    similarities.sort(key=lambda x: x[1], reverse=True)\n",
    "\n",
    "    return similarities\n",
    "\n",
    "# Example usage\n",
    "main_image = \"C:/Users/MG/Projects/Images/cuts/slice_0.png\"\n",
    "sliced_folder = \"C:/Users/MG/Projects/Images/cuts\"\n",
    "\n",
    "results = compare_images(main_image, sliced_folder)\n",
    "for filename, score in results:\n",
    "    print(f\"{filename}: {score:.4f}\")"
   ]
  },
  {
   "cell_type": "code",
   "execution_count": null,
   "id": "2ea7b1d3-af52-410c-a041-c1302467cb38",
   "metadata": {},
   "outputs": [],
   "source": []
  }
 ],
 "metadata": {
  "kernelspec": {
   "display_name": "Python [conda env:base] *",
   "language": "python",
   "name": "conda-base-py"
  },
  "language_info": {
   "codemirror_mode": {
    "name": "ipython",
    "version": 3
   },
   "file_extension": ".py",
   "mimetype": "text/x-python",
   "name": "python",
   "nbconvert_exporter": "python",
   "pygments_lexer": "ipython3",
   "version": "3.11.5"
  }
 },
 "nbformat": 4,
 "nbformat_minor": 5
}
